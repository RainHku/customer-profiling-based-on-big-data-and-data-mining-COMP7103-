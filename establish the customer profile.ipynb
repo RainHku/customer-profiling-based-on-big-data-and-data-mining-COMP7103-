{
 "cells": [
  {
   "cell_type": "code",
   "execution_count": 2,
   "metadata": {},
   "outputs": [],
   "source": [
    "import pandas as pd\n",
    "import numpy as np\n",
    "import gensim\n",
    "from gensim.models import word2vec\n",
    "from sklearn.decomposition import PCA\n",
    "import matplotlib.pyplot as plt\n",
    "import matplotlib"
   ]
  },
  {
   "cell_type": "code",
   "execution_count": 3,
   "metadata": {},
   "outputs": [
    {
     "name": "stdout",
     "output_type": "stream",
     "text": [
      "Package                       Version\n",
      "----------------------------- --------------------\n",
      "absl-py                       1.4.0\n",
      "aiofiles                      23.1.0\n",
      "aiohttp                       3.8.1\n",
      "aiosignal                     1.2.0\n",
      "alabaster                     0.7.12\n",
      "altair                        4.2.2\n",
      "anaconda-client               1.9.0\n",
      "anaconda-navigator            2.2.0\n",
      "anaconda-project              0.10.2\n",
      "anyio                         3.5.0\n",
      "appdirs                       1.4.4\n",
      "argon2-cffi                   21.3.0\n",
      "argon2-cffi-bindings          21.2.0\n",
      "arrow                         1.2.2\n",
      "astor                         0.8.1\n",
      "astroid                       2.6.6\n",
      "astropy                       5.0.4\n",
      "asttokens                     2.0.5\n",
      "async-timeout                 4.0.1\n",
      "atomicwrites                  1.4.0\n",
      "attrdict                      2.0.1\n",
      "attrs                         21.4.0\n",
      "Automat                       20.2.0\n",
      "autopep8                      1.6.0\n",
      "Babel                         2.12.1\n",
      "backcall                      0.2.0\n",
      "backports.functools-lru-cache 1.6.4\n",
      "backports.tempfile            1.0\n",
      "backports.weakref             1.0.post1\n",
      "baidu-aip                     4.16.8\n",
      "bce-python-sdk                0.8.79\n",
      "bcrypt                        3.2.0\n",
      "beautifulsoup4                4.11.1\n",
      "binaryornot                   0.4.4\n",
      "bitarray                      2.4.1\n",
      "bkcharts                      0.2\n",
      "black                         19.10b0\n",
      "bleach                        4.1.0\n",
      "bokeh                         2.4.2\n",
      "boto3                         1.21.32\n",
      "botocore                      1.24.32\n",
      "Bottleneck                    1.3.4\n",
      "Brotli                        1.0.9\n",
      "brotlipy                      0.7.0\n",
      "cachetools                    4.2.2\n",
      "certifi                       2021.10.8\n",
      "cffi                          1.15.0\n",
      "chardet                       4.0.0\n",
      "charset-normalizer            2.0.4\n",
      "click                         8.0.4\n",
      "cloudpickle                   2.0.0\n",
      "clyent                        1.2.2\n",
      "colorama                      0.4.4\n",
      "colorcet                      2.0.6\n",
      "comtypes                      1.1.10\n",
      "conda                         4.14.0\n",
      "conda-build                   3.22.0\n",
      "conda-content-trust           0+unknown\n",
      "conda-pack                    0.6.0\n",
      "conda-package-handling        1.8.1\n",
      "conda-repo-cli                1.0.4\n",
      "conda-token                   0.3.0\n",
      "conda-verify                  3.4.2\n",
      "constantly                    15.1.0\n",
      "control                       0.9.2\n",
      "cookiecutter                  1.7.3\n",
      "cryptography                  3.4.8\n",
      "cssselect                     1.1.0\n",
      "cycler                        0.11.0\n",
      "Cython                        0.29.28\n",
      "cytoolz                       0.11.0\n",
      "daal4py                       2021.5.0\n",
      "dask                          2022.2.1\n",
      "datashader                    0.13.0\n",
      "datashape                     0.5.4\n",
      "debugpy                       1.5.1\n",
      "decorator                     5.1.1\n",
      "defusedxml                    0.7.1\n",
      "diff-match-patch              20200713\n",
      "distributed                   2022.2.1\n",
      "docutils                      0.17.1\n",
      "easydict                      1.10\n",
      "easyocr                       1.6.2\n",
      "entrypoints                   0.4\n",
      "et-xmlfile                    1.1.0\n",
      "executing                     0.8.3\n",
      "fastapi                       0.92.0\n",
      "fastjsonschema                2.15.1\n",
      "ffmpy                         0.3.0\n",
      "filelock                      3.6.0\n",
      "flake8                        3.9.2\n",
      "Flask                         2.2.3\n",
      "flask-babel                   3.0.1\n",
      "fonttools                     4.25.0\n",
      "frozenlist                    1.2.0\n",
      "fsspec                        2022.2.0\n",
      "future                        0.18.2\n",
      "gdown                         4.6.4\n",
      "gensim                        4.1.2\n",
      "gevent                        22.10.2\n",
      "geventhttpclient              2.0.2\n",
      "gitdb                         4.0.10\n",
      "GitPython                     3.1.31\n",
      "glob2                         0.7\n",
      "google-api-core               1.25.1\n",
      "google-auth                   1.33.0\n",
      "google-auth-oauthlib          0.4.6\n",
      "google-cloud-core             1.7.1\n",
      "google-cloud-storage          1.31.0\n",
      "google-crc32c                 1.1.2\n",
      "google-resumable-media        1.3.1\n",
      "googleapis-common-protos      1.53.0\n",
      "gradio                        3.20.0\n",
      "greenlet                      2.0.2\n",
      "grpcio                        1.51.3\n",
      "h11                           0.14.0\n",
      "h5py                          3.6.0\n",
      "HeapDict                      1.0.1\n",
      "holoviews                     1.14.8\n",
      "httpcore                      0.16.3\n",
      "httpx                         0.23.3\n",
      "hvplot                        0.7.3\n",
      "hyperlink                     21.0.0\n",
      "idna                          3.3\n",
      "imagecodecs                   2021.8.26\n",
      "imageio                       2.9.0\n",
      "imagesize                     1.3.0\n",
      "imgaug                        0.4.0\n",
      "importlib-metadata            4.11.3\n",
      "incremental                   21.3.0\n",
      "inflection                    0.5.1\n",
      "iniconfig                     1.1.1\n",
      "install                       1.3.5\n",
      "intake                        0.6.5\n",
      "intervaltree                  3.1.0\n",
      "ipykernel                     6.9.1\n",
      "ipython                       8.2.0\n",
      "ipython-genutils              0.2.0\n",
      "ipywidgets                    7.6.5\n",
      "isort                         4.3.21\n",
      "itemadapter                   0.3.0\n",
      "itemloaders                   1.0.4\n",
      "itsdangerous                  2.0.1\n",
      "jdcal                         1.4.1\n",
      "jedi                          0.18.1\n",
      "Jinja2                        3.1.2\n",
      "jinja2-time                   0.2.0\n",
      "jmespath                      0.10.0\n",
      "joblib                        1.1.0\n",
      "json5                         0.9.6\n",
      "jsonschema                    4.4.0\n",
      "jupyter                       1.0.0\n",
      "jupyter-client                6.1.12\n",
      "jupyter-console               6.4.0\n",
      "jupyter-core                  4.9.2\n",
      "jupyter-server                1.13.5\n",
      "jupyterlab                    3.3.2\n",
      "jupyterlab-pygments           0.1.2\n",
      "jupyterlab-server             2.10.3\n",
      "jupyterlab-widgets            1.0.0\n",
      "keyring                       23.4.0\n",
      "kiwisolver                    1.3.2\n",
      "lazy-object-proxy             1.6.0\n",
      "libarchive-c                  2.9\n",
      "libretranslatepy              2.1.1\n",
      "linkify-it-py                 2.0.0\n",
      "llvmlite                      0.38.0\n",
      "locket                        0.2.1\n",
      "lxml                          4.8.0\n",
      "Markdown                      3.3.4\n",
      "markdown-it-py                2.2.0\n",
      "MarkupSafe                    2.1.2\n",
      "matplotlib                    3.5.1\n",
      "matplotlib-inline             0.1.2\n",
      "mccabe                        0.6.1\n",
      "mdit-py-plugins               0.3.3\n",
      "mdurl                         0.1.2\n",
      "menuinst                      1.4.18\n",
      "mistune                       0.8.4\n",
      "mkl-fft                       1.3.1\n",
      "mkl-random                    1.2.2\n",
      "mkl-service                   2.4.0\n",
      "mock                          4.0.3\n",
      "mpmath                        1.2.1\n",
      "msgpack                       1.0.2\n",
      "multidict                     5.1.0\n",
      "multipledispatch              0.6.0\n",
      "munkres                       1.1.4\n",
      "mypy-extensions               0.4.3\n",
      "navigator-updater             0.2.1\n",
      "nbclassic                     0.3.5\n",
      "nbclient                      0.5.13\n",
      "nbconvert                     6.4.4\n",
      "nbformat                      5.3.0\n",
      "nest-asyncio                  1.5.5\n",
      "networkx                      2.7.1\n",
      "ninja                         1.11.1\n",
      "nltk                          3.7\n",
      "nonechucks                    0.4.2\n",
      "nose                          1.3.7\n",
      "notebook                      6.4.8\n",
      "numba                         0.55.1\n",
      "numexpr                       2.8.1\n",
      "numpy                         1.21.5\n",
      "numpydoc                      1.2\n",
      "oauthlib                      3.2.2\n",
      "olefile                       0.46\n",
      "onnx                          1.13.1\n",
      "opencv-python                 4.7.0.72\n",
      "openpyxl                      3.0.9\n",
      "opt-einsum                    3.3.0\n",
      "orjson                        3.8.7\n",
      "packaging                     21.3\n",
      "paddle-bfloat                 0.1.7\n",
      "paddleslim                    2.0.0\n",
      "paddlex                       2.0.0rc0\n",
      "pandas                        1.4.2\n",
      "pandocfilters                 1.5.0\n",
      "panel                         0.13.0\n",
      "param                         1.12.0\n",
      "paramiko                      2.8.1\n",
      "parsel                        1.6.0\n",
      "parso                         0.8.3\n",
      "partd                         1.2.0\n",
      "pathspec                      0.7.0Note: you may need to restart the kernel to use updated packages.\n",
      "patsy                         0.5.2\n",
      "pep8                          1.7.1\n",
      "pexpect                       4.8.0\n",
      "pickleshare                   0.7.5\n",
      "Pillow                        9.0.1\n",
      "pip                           23.0.1\n",
      "pkginfo                       1.8.2\n",
      "plotly                        5.6.0\n",
      "pluggy                        1.0.0\n",
      "poyo                          0.5.0\n",
      "prometheus-client             0.13.1\n",
      "prompt-toolkit                3.0.20\n",
      "Protego                       0.1.16\n",
      "psutil                        5.8.0\n",
      "ptyprocess                    0.7.0\n",
      "pure-eval                     0.2.2\n",
      "py                            1.11.0\n",
      "pyasn1                        0.4.8\n",
      "pyasn1-modules                0.2.8\n",
      "pyclipper                     1.3.0.post3\n",
      "pycodestyle                   2.7.0\n",
      "pycosat                       0.6.3\n",
      "pycparser                     2.21\n",
      "pycryptodome                  3.17\n",
      "pyct                          0.4.6\n",
      "pycurl                        7.44.1\n",
      "pydantic                      1.10.5\n",
      "PyDispatcher                  2.0.5\n",
      "pydocstyle                    6.1.1\n",
      "pydub                         0.25.1\n",
      "pyerfa                        2.0.0\n",
      "pyflakes                      2.3.1\n",
      "Pygments                      2.11.2\n",
      "PyHamcrest                    2.0.2\n",
      "PyJWT                         2.1.0\n",
      "pylint                        2.9.6\n",
      "pyls-spyder                   0.4.0\n",
      "PyNaCl                        1.4.0\n",
      "pyodbc                        4.0.32\n",
      "pyOpenSSL                     21.0.0\n",
      "pyparsing                     3.0.4\n",
      "pyreadline                    2.1\n",
      "pyrsistent                    0.18.0\n",
      "PySocks                       1.7.1\n",
      "pytest                        7.1.1\n",
      "python-bidi                   0.4.2\n",
      "python-dateutil               2.8.2\n",
      "python-lsp-black              1.0.0\n",
      "python-lsp-jsonrpc            1.0.0\n",
      "python-lsp-server             1.2.4\n",
      "python-multipart              0.0.6\n",
      "python-rapidjson              1.9\n",
      "python-slugify                5.0.2\n",
      "python-snappy                 0.6.0\n",
      "pytz                          2022.7.1\n",
      "pyviz-comms                   2.0.2\n",
      "PyWavelets                    1.3.0\n",
      "pywin32                       302\n",
      "pywin32-ctypes                0.2.0\n",
      "pywinpty                      2.0.2\n",
      "PyYAML                        6.0\n",
      "pyzmq                         22.3.0\n",
      "QDarkStyle                    3.0.2\n",
      "qstylizer                     0.1.10\n",
      "QtAwesome                     1.0.3\n",
      "qtconsole                     5.3.0\n",
      "QtPy                          2.0.1\n",
      "queuelib                      1.5.0\n",
      "rarfile                       4.0\n",
      "regex                         2022.3.15\n",
      "requests                      2.27.1\n",
      "requests-file                 1.5.1\n",
      "requests-oauthlib             1.3.1\n",
      "rfc3986                       1.5.0\n",
      "\n",
      "rope                          0.22.0\n",
      "rsa                           4.7.2\n",
      "Rtree                         0.9.7\n",
      "ruamel-yaml-conda             0.15.100\n",
      "s3transfer                    0.5.0\n",
      "scikit-image                  0.19.2\n",
      "scikit-learn                  1.0.2\n",
      "scikit-learn-intelex          2021.20220215.102710\n",
      "scipy                         1.7.3\n",
      "Scrapy                        2.6.1\n",
      "seaborn                       0.11.2\n",
      "Send2Trash                    1.8.0\n",
      "service-identity              18.1.0\n",
      "setuptools                    65.5.1\n",
      "Shapely                       1.8.5.post1\n",
      "sip                           4.19.13\n",
      "six                           1.16.0\n",
      "slycot                        0.4.0.0\n",
      "smart-open                    5.1.0\n",
      "smmap                         5.0.0\n",
      "sniffio                       1.2.0\n",
      "snowballstemmer               2.2.0\n",
      "sortedcollections             2.1.0\n",
      "sortedcontainers              2.4.0\n",
      "soupsieve                     2.3.1"
     ]
    },
    {
     "name": "stderr",
     "output_type": "stream",
     "text": [
      "\n",
      "[notice] A new release of pip is available: 23.0.1 -> 23.1\n",
      "[notice] To update, run: python.exe -m pip install --upgrade pip\n"
     ]
    },
    {
     "name": "stdout",
     "output_type": "stream",
     "text": [
      "\n",
      "Sphinx                        4.4.0\n",
      "sphinxcontrib-applehelp       1.0.2\n",
      "sphinxcontrib-devhelp         1.0.2\n",
      "sphinxcontrib-htmlhelp        2.0.0\n",
      "sphinxcontrib-jsmath          1.0.1\n",
      "sphinxcontrib-qthelp          1.0.3\n",
      "sphinxcontrib-serializinghtml 1.1.5\n",
      "spyder                        5.1.5\n",
      "spyder-kernels                2.1.3\n",
      "SQLAlchemy                    1.4.32\n",
      "stack-data                    0.2.0\n",
      "starlette                     0.25.0\n",
      "statsmodels                   0.13.2\n",
      "sympy                         1.10.1\n",
      "tables                        3.6.1\n",
      "tabulate                      0.8.9\n",
      "tb-nightly                    2.13.0a20230303\n",
      "TBB                           0.2\n",
      "tblib                         1.7.0\n",
      "tenacity                      8.0.1\n",
      "tensorboard                   2.12.0\n",
      "tensorboard-data-server       0.7.0\n",
      "tensorboard-plugin-wit        1.8.1\n",
      "terminado                     0.13.1\n",
      "testpath                      0.5.0\n",
      "text-unidecode                1.3\n",
      "textdistance                  4.2.1\n",
      "thop                          0.1.1.post2209072238\n",
      "threadpoolctl                 2.2.0\n",
      "three-merge                   0.1.1\n",
      "tifffile                      2021.7.2\n",
      "tinycss                       0.4\n",
      "tldextract                    3.2.0\n",
      "toml                          0.10.2\n",
      "tomli                         1.2.2\n",
      "toolz                         0.11.2\n",
      "torch                         1.13.0\n",
      "torchvision                   0.14.0\n",
      "tornado                       6.1\n",
      "tqdm                          4.64.0\n",
      "traitlets                     5.1.1\n",
      "translate                     3.6.1\n",
      "translator                    0.0.9\n",
      "tritonclient                  2.31.0\n",
      "Twisted                       22.2.0\n",
      "twisted-iocpsupport           1.0.2\n",
      "typed-ast                     1.4.3\n",
      "typing_extensions             4.5.0\n",
      "uc-micro-py                   1.0.1\n",
      "ujson                         5.1.0\n",
      "Unidecode                     1.2.0\n",
      "urllib3                       1.26.9\n",
      "uvicorn                       0.20.0\n",
      "visualdl                      2.5.1\n",
      "w3lib                         1.21.0\n",
      "watchdog                      2.1.6\n",
      "wcwidth                       0.2.5\n",
      "webencodings                  0.5.1\n",
      "websocket-client              0.58.0\n",
      "websockets                    10.4\n",
      "Werkzeug                      2.2.3\n",
      "wheel                         0.37.1\n",
      "widgetsnbextension            3.5.2\n",
      "win-inet-pton                 1.1.0\n",
      "win-unicode-console           0.5\n",
      "wincertstore                  0.2\n",
      "wrapt                         1.12.1\n",
      "x2paddle                      1.4.0\n",
      "xarray                        0.20.1\n",
      "xlrd                          2.0.1\n",
      "XlsxWriter                    3.0.3\n",
      "xlwings                       0.24.9\n",
      "yacs                          0.1.8\n",
      "yapf                          0.31.0\n",
      "yarl                          1.6.3\n",
      "zict                          2.0.0\n",
      "zipp                          3.7.0\n",
      "zope.event                    4.6\n",
      "zope.interface                5.4.0\n"
     ]
    }
   ],
   "source": [
    "pip list"
   ]
  },
  {
   "cell_type": "code",
   "execution_count": 4,
   "metadata": {},
   "outputs": [],
   "source": [
    "# get the mean vector\n",
    "file_name = 'data/train_querylist_writefile-1w.csv'\n",
    "# word2vec_300.model\n",
    "cur_model = gensim.models.Word2Vec.load('1w_word2vec_300.model')\n",
    "with open(file_name, 'r', encoding='gbk') as f:\n",
    "    cur_index = 0\n",
    "    lines = f.readlines()\n",
    "    doc_cev = np.zeros((len(lines),300))\n",
    "    for line in lines:\n",
    "        word_vec = np.zeros((1,300))\n",
    "        words = line.strip().split(' ')\n",
    "        wrod_num = 0\n",
    "        for word in words:\n",
    "            vocab = cur_model.wv\n",
    "            if word in vocab:\n",
    "                wrod_num += 1\n",
    "                word_vec += np.array([cur_model.wv[word]])\n",
    "        doc_cev[cur_index] = word_vec / float(wrod_num)\n",
    "        cur_index += 1"
   ]
  },
  {
   "cell_type": "code",
   "execution_count": 5,
   "metadata": {},
   "outputs": [],
   "source": [
    "# The 300-dimensional word vector is reduced to 2 dimensions\n",
    "file_name = 'data/train_querylist_writefile-1w.csv'\n",
    "cur_model = gensim.models.Word2Vec.load('1w_word2vec_300.model')\n",
    "rawWordVec = []\n",
    "word2ind = {}\n",
    "for i,w in enumerate(cur_model.wv.index_to_key):\n",
    "    rawWordVec.append(cur_model.wv[w])\n",
    "    word2ind[w] = i\n",
    "rawWordVec = np.array(rawWordVec)\n",
    "X_reduced = PCA(n_components=2).fit_transform(rawWordVec)\n"
   ]
  },
  {
   "cell_type": "code",
   "execution_count": 6,
   "metadata": {},
   "outputs": [
    {
     "data": {
      "text/plain": [
       "array([[ 0.60194176, -1.1115816 ],\n",
       "       [ 1.5447985 ,  6.139515  ],\n",
       "       [ 0.41900697, -0.31996998],\n",
       "       ...,\n",
       "       [-0.09818363,  0.10697694],\n",
       "       [-0.04866031, -0.02742828],\n",
       "       [ 0.08397365, -0.19432762]], dtype=float32)"
      ]
     },
     "execution_count": 6,
     "metadata": {},
     "output_type": "execute_result"
    }
   ],
   "source": [
    "X_reduced"
   ]
  },
  {
   "cell_type": "code",
   "execution_count": 38,
   "metadata": {},
   "outputs": [
    {
     "data": {
      "image/png": "[encoded data removed]",
      "text/plain": [
       "<Figure size 1080x720 with 1 Axes>"
      ]
     },
     "metadata": {
      "needs_background": "light"
     },
     "output_type": "display_data"
    }
   ],
   "source": [
    "# 2D word vector visualization\n",
    "# Draw a star map\n",
    "# Plot the 2D space projection of all word vectors\n",
    "fig = plt.figure(figsize = (15, 10))\n",
    "ax = fig.gca()\n",
    "ax.set_facecolor('white')\n",
    "ax.plot(X_reduced[:, 0], X_reduced[:, 1], '.', markersize = 1, alpha = 0.3, color = 'black')\n",
    "\n",
    "\n",
    "# plot vectors of several special words\n",
    "words = ['苹果', '女装', '笔记本', '手链', '皮鞋', '裙子','手机']\n",
    "\n",
    "# Set Chinese font, otherwise garbled characters\n",
    "zhfont1 = matplotlib.font_manager.FontProperties(fname='./华文仿宋.ttf', size=16)\n",
    "for w in words:\n",
    "    if w in word2ind:\n",
    "        ind = word2ind[w]\n",
    "        xy = X_reduced[ind]\n",
    "        plt.plot(xy[0], xy[1], '.', alpha =1, color = 'orange',markersize=10)\n",
    "        plt.text(xy[0], xy[1], w, fontproperties = zhfont1, alpha = 1, color = 'red')"
   ]
  },
  {
   "cell_type": "code",
   "execution_count": 7,
   "metadata": {},
   "outputs": [
    {
     "data": {
      "text/plain": [
       "(9988, 300)"
      ]
     },
     "execution_count": 7,
     "metadata": {},
     "output_type": "execute_result"
    }
   ],
   "source": [
    "doc_cev.shape"
   ]
  },
  {
   "cell_type": "code",
   "execution_count": 9,
   "metadata": {},
   "outputs": [
    {
     "data": {
      "text/plain": [
       "(9988,)"
      ]
     },
     "execution_count": 9,
     "metadata": {},
     "output_type": "execute_result"
    }
   ],
   "source": [
    "# load the gender label\n",
    "genderlabel = np.loadtxt(open('data/train_gender.csv', 'r')).astype(int)\n",
    "genderlabel.shape"
   ]
  },
  {
   "cell_type": "code",
   "execution_count": 10,
   "metadata": {},
   "outputs": [
    {
     "data": {
      "text/plain": [
       "(9988,)"
      ]
     },
     "execution_count": 10,
     "metadata": {},
     "output_type": "execute_result"
    }
   ],
   "source": [
    "# load the education label\n",
    "educationlabel = np.loadtxt(open('data/train_education.csv', 'r')).astype(int)\n",
    "educationlabel.shape"
   ]
  },
  {
   "cell_type": "code",
   "execution_count": 11,
   "metadata": {},
   "outputs": [
    {
     "data": {
      "text/plain": [
       "(9988,)"
      ]
     },
     "execution_count": 11,
     "metadata": {},
     "output_type": "execute_result"
    }
   ],
   "source": [
    "# load the age label\n",
    "agelabel = np.loadtxt(open('data/train_age.csv', 'r')).astype(int)\n",
    "agelabel.shape"
   ]
  },
  {
   "cell_type": "code",
   "execution_count": 12,
   "metadata": {},
   "outputs": [
    {
     "name": "stdout",
     "output_type": "stream",
     "text": [
      "(9756, 300) (9756,)\n"
     ]
    }
   ],
   "source": [
    "# remove the invalid data(zero) in (doc_cev, genderlabel)\n",
    "def removezero(x, y):\n",
    "        nozero = np.nonzero(y)\n",
    "        y = y[nozero]\n",
    "        x = np.array(x)\n",
    "        x = x[nozero]\n",
    "        return x, y\n",
    "gender_train, genderlabel = removezero(doc_cev, genderlabel)\n",
    "print (gender_train.shape,genderlabel.shape)"
   ]
  },
  {
   "cell_type": "code",
   "execution_count": 13,
   "metadata": {},
   "outputs": [
    {
     "name": "stdout",
     "output_type": "stream",
     "text": [
      "(9064, 300) (9064,)\n",
      "[4 3 3 ... 5 5 3]\n"
     ]
    }
   ],
   "source": [
    "# remove the invalid data(zero) in (doc_cev, educationlabel)\n",
    "def removezero(x, y):\n",
    "        nozero = np.nonzero(y)\n",
    "        y = y[nozero]\n",
    "        x = np.array(x)\n",
    "        x = x[nozero]\n",
    "        return x, y\n",
    "education_train, educationlabel = removezero(doc_cev, educationlabel)\n",
    "print (education_train.shape,educationlabel.shape)\n",
    "print (educationlabel)"
   ]
  },
  {
   "cell_type": "code",
   "execution_count": 14,
   "metadata": {},
   "outputs": [
    {
     "name": "stdout",
     "output_type": "stream",
     "text": [
      "(9815, 300) (9815,)\n",
      "[1 2 4 ... 1 2 3]\n"
     ]
    }
   ],
   "source": [
    "# remove the invalid data(zero) in (doc_cev, agelabel)\n",
    "def removezero(x, y):\n",
    "        nozero = np.nonzero(y)\n",
    "        y = y[nozero]\n",
    "        x = np.array(x)\n",
    "        x = x[nozero]\n",
    "        return x, y\n",
    "age_train, agelabel = removezero(doc_cev, agelabel)\n",
    "print (age_train.shape,agelabel.shape)\n",
    "print (agelabel)"
   ]
  },
  {
   "cell_type": "code",
   "execution_count": 15,
   "metadata": {},
   "outputs": [],
   "source": [
    "# confusion_matrix\n",
    "import matplotlib.pyplot as plt\n",
    "import itertools\n",
    "def plot_confusion_matrix(cm, classes,\n",
    "                          title='Confusion matrix',\n",
    "                          cmap=plt.cm.Blues):\n",
    "    \"\"\"\n",
    "    This function prints and plots the confusion matrix.\n",
    "    \"\"\"\n",
    "    plt.imshow(cm, interpolation='nearest', cmap=cmap)\n",
    "    plt.title(title)\n",
    "    plt.colorbar()\n",
    "    tick_marks = np.arange(len(classes))\n",
    "    plt.xticks(tick_marks, classes, rotation=0)\n",
    "    plt.yticks(tick_marks, classes)\n",
    "\n",
    "    thresh = cm.max() / 2.\n",
    "    for i, j in itertools.product(range(cm.shape[0]), range(cm.shape[1])):\n",
    "        plt.text(j, i, cm[i, j],\n",
    "                 horizontalalignment=\"center\",\n",
    "                 color=\"white\" if cm[i, j] > thresh else \"black\")\n",
    "\n",
    "    plt.tight_layout()\n",
    "    plt.ylabel('True label')\n",
    "    plt.xlabel('Predicted label')"
   ]
  },
  {
   "cell_type": "code",
   "execution_count": 22,
   "metadata": {},
   "outputs": [
    {
     "name": "stdout",
     "output_type": "stream",
     "text": [
      "0.7968429684296843\n",
      "Recall metric in the testing dataset:  0.8061325420375866\n",
      "accuracy metric in the testing dataset:  0.7968429684296843\n"
     ]
    },
    {
     "data": {
      "image/png": "[encoded data removed]",
      "text/plain": [
       "<Figure size 640x480 with 2 Axes>"
      ]
     },
     "metadata": {},
     "output_type": "display_data"
    }
   ],
   "source": [
    "# do the training for LogisticRegression model(label: gender)\n",
    "from sklearn.linear_model import LogisticRegression\n",
    "from sklearn.metrics import confusion_matrix\n",
    "\n",
    "LR_model = LogisticRegression(class_weight='balanced', random_state=0,penalty='l1',solver='liblinear')\n",
    "\n",
    "LR_model.fit(gender_train,genderlabel)\n",
    "y_pred = LR_model.predict(gender_train)\n",
    "print (LR_model.score(gender_train,genderlabel))\n",
    "cnf_matrix = confusion_matrix(genderlabel,y_pred)\n",
    "\n",
    "print(\"Recall metric in the testing dataset: \", cnf_matrix[1,1]/(cnf_matrix[1,0]+cnf_matrix[1,1]))\n",
    "\n",
    "print(\"accuracy metric in the testing dataset: \", (cnf_matrix[1,1]+cnf_matrix[0,0])/(cnf_matrix[0,0]+cnf_matrix[1,1]+cnf_matrix[1,0]+cnf_matrix[0,1]))\n",
    "\n",
    "# Plot non-normalized confusion matrix\n",
    "class_names = [0,1]\n",
    "plt.figure()\n",
    "plot_confusion_matrix(cnf_matrix\n",
    "                      , classes=class_names\n",
    "                      , title='Confusion matrix')\n",
    "plt.show()"
   ]
  },
  {
   "cell_type": "code",
   "execution_count": 47,
   "metadata": {},
   "outputs": [
    {
     "name": "stdout",
     "output_type": "stream",
     "text": [
      "0.3242497793468667\n",
      "Recall metric in the testing dataset:  0.7941176470588235\n",
      "accuracy metric in the testing dataset:  0.3242497793468667\n"
     ]
    },
    {
     "data": {
      "image/png": "[encoded data removed]",
      "text/plain": [
       "<Figure size 432x288 with 2 Axes>"
      ]
     },
     "metadata": {
      "needs_background": "light"
     },
     "output_type": "display_data"
    }
   ],
   "source": [
    "# do the training for LogisticRegression model(label: education)\n",
    "from sklearn.linear_model import LogisticRegression\n",
    "from sklearn.metrics import confusion_matrix\n",
    "\n",
    "LR_model = LogisticRegression(class_weight='balanced', random_state=0,penalty='l1',solver='liblinear')\n",
    "\n",
    "LR_model.fit(education_train,educationlabel)\n",
    "y_pred = LR_model.predict(education_train)\n",
    "print (LR_model.score(education_train,educationlabel))\n",
    "cnf_matrix = confusion_matrix(educationlabel,y_pred)\n",
    "\n",
    "print(\"Recall metric in the testing dataset: \", cnf_matrix[1,1]/(cnf_matrix[1,0]+cnf_matrix[1,1]))\n",
    "\n",
    "print(\"accuracy metric in the testing dataset: \", (cnf_matrix[5,5]+cnf_matrix[4,4]+cnf_matrix[3,3]+cnf_matrix[2,2]+cnf_matrix[1,1]+cnf_matrix[0,0])/(cnf_matrix[0,0]+cnf_matrix[0,1]+cnf_matrix[0,2]+cnf_matrix[0,3]+cnf_matrix[0,4]+cnf_matrix[0,5]\n",
    "                                                                                                                                                     +cnf_matrix[1,0]+cnf_matrix[1,1]+cnf_matrix[1,2]+cnf_matrix[1,3]+cnf_matrix[1,4]+cnf_matrix[1,5]\n",
    "                                                                                                                                                     +cnf_matrix[2,0]+cnf_matrix[2,1]+cnf_matrix[2,2]+cnf_matrix[2,3]+cnf_matrix[2,4]+cnf_matrix[2,5]\n",
    "                                                                                                                                                     +cnf_matrix[3,0]+cnf_matrix[3,1]+cnf_matrix[3,2]+cnf_matrix[3,3]+cnf_matrix[3,4]+cnf_matrix[3,5]\n",
    "                                                                                                                                                     +cnf_matrix[4,0]+cnf_matrix[4,1]+cnf_matrix[4,2]+cnf_matrix[4,3]+cnf_matrix[4,4]+cnf_matrix[4,5]\n",
    "                                                                                                                                                     +cnf_matrix[5,0]+cnf_matrix[5,1]+cnf_matrix[5,2]+cnf_matrix[5,3]+cnf_matrix[5,4]+cnf_matrix[5,5]))\n",
    "\n",
    "# Plot non-normalized confusion matrix\n",
    "class_names = [1,2,3,4,5,6]\n",
    "plt.figure()\n",
    "plot_confusion_matrix(cnf_matrix\n",
    "                      , classes=class_names\n",
    "                      , title='Confusion matrix')\n",
    "plt.show()"
   ]
  },
  {
   "cell_type": "code",
   "execution_count": 48,
   "metadata": {},
   "outputs": [
    {
     "name": "stdout",
     "output_type": "stream",
     "text": [
      "0.40099282956425814\n",
      "accuracy metric in the testing dataset:  0.40099282956425814\n"
     ]
    },
    {
     "data": {
      "image/png": "[encoded data removed]",
      "text/plain": [
       "<Figure size 432x288 with 2 Axes>"
      ]
     },
     "metadata": {
      "needs_background": "light"
     },
     "output_type": "display_data"
    }
   ],
   "source": [
    "# do the training for RandomForestClassifier model(label: education)\n",
    "from sklearn.ensemble import RandomForestClassifier\n",
    "from sklearn.metrics import confusion_matrix\n",
    "from sklearn.model_selection import train_test_split\n",
    "\n",
    "X_train, X_test, y_train, y_test = train_test_split(education_train,educationlabel,test_size = 0.2, random_state = 0)\n",
    "\n",
    "RF_model = RandomForestClassifier(n_estimators=100,min_samples_split=5,max_depth=10)\n",
    "\n",
    "RF_model.fit(X_train,y_train)\n",
    "y_pred = RF_model.predict(X_test)\n",
    "print (RF_model.score(X_test,y_test))\n",
    "\n",
    "cnf_matrix = confusion_matrix(y_test,y_pred)\n",
    "\n",
    "print(\"accuracy metric in the testing dataset: \", (cnf_matrix[5,5]+cnf_matrix[4,4]+cnf_matrix[3,3]+cnf_matrix[2,2]+cnf_matrix[1,1]+cnf_matrix[0,0])/(cnf_matrix[0,0]+cnf_matrix[0,1]+cnf_matrix[0,2]+cnf_matrix[0,3]+cnf_matrix[0,4]+cnf_matrix[0,5]\n",
    "                                                                                                                                                     +cnf_matrix[1,0]+cnf_matrix[1,1]+cnf_matrix[1,2]+cnf_matrix[1,3]+cnf_matrix[1,4]+cnf_matrix[1,5]\n",
    "                                                                                                                                                     +cnf_matrix[2,0]+cnf_matrix[2,1]+cnf_matrix[2,2]+cnf_matrix[2,3]+cnf_matrix[2,4]+cnf_matrix[2,5]\n",
    "                                                                                                                                                     +cnf_matrix[3,0]+cnf_matrix[3,1]+cnf_matrix[3,2]+cnf_matrix[3,3]+cnf_matrix[3,4]+cnf_matrix[3,5]\n",
    "                                                                                                                                                     +cnf_matrix[4,0]+cnf_matrix[4,1]+cnf_matrix[4,2]+cnf_matrix[4,3]+cnf_matrix[4,4]+cnf_matrix[4,5]\n",
    "                                                                                                                                                     +cnf_matrix[5,0]+cnf_matrix[5,1]+cnf_matrix[5,2]+cnf_matrix[5,3]+cnf_matrix[5,4]+cnf_matrix[5,5]))\n",
    "\n",
    "# Plot non-normalized confusion matrix\n",
    "class_names = [1,2,3,4,5,6]\n",
    "plt.figure()\n",
    "plot_confusion_matrix(cnf_matrix\n",
    "                      , classes=class_names\n",
    "                      , title='Gender-Confusion matrix')\n",
    "plt.show()"
   ]
  },
  {
   "cell_type": "code",
   "execution_count": 52,
   "metadata": {},
   "outputs": [
    {
     "name": "stdout",
     "output_type": "stream",
     "text": [
      "0.48344370860927155\n",
      "accuracy metric in the testing dataset:  0.48344370860927155\n"
     ]
    },
    {
     "data": {
      "image/png": "[encoded data removed]",
      "text/plain": [
       "<Figure size 432x288 with 2 Axes>"
      ]
     },
     "metadata": {
      "needs_background": "light"
     },
     "output_type": "display_data"
    }
   ],
   "source": [
    "# do the training for KNeighborsClassifier model(label: education)\n",
    "from sklearn.neighbors import KNeighborsClassifier\n",
    "from sklearn.metrics import confusion_matrix\n",
    "from sklearn.model_selection import train_test_split\n",
    "\n",
    "X_train, X_test, y_train, y_test = train_test_split(age_train,agelabel,test_size = 0.2, random_state = 0)\n",
    "\n",
    "\n",
    "\n",
    "KNN_model = KNeighborsClassifier(n_neighbors=12)\n",
    "KNN_model.fit(X_train,y_train)\n",
    "y_pred = KNN_model.predict(X_test)\n",
    "print (KNN_model.score(X_test,y_test))\n",
    "\n",
    "cnf_matrix = confusion_matrix(y_test,y_pred)\n",
    "\n",
    "#print(\"Recall metric in the testing dataset: \", cnf_matrix[1,1]/(cnf_matrix[1,0]+cnf_matrix[1,1]))\n",
    "\n",
    "print(\"accuracy metric in the testing dataset: \", (cnf_matrix[5,5]+cnf_matrix[4,4]+cnf_matrix[3,3]+cnf_matrix[2,2]+cnf_matrix[1,1]+cnf_matrix[0,0])/(cnf_matrix[0,0]+cnf_matrix[0,1]+cnf_matrix[0,2]+cnf_matrix[0,3]+cnf_matrix[0,4]+cnf_matrix[0,5]\n",
    "                                                                                                                                                     +cnf_matrix[1,0]+cnf_matrix[1,1]+cnf_matrix[1,2]+cnf_matrix[1,3]+cnf_matrix[1,4]+cnf_matrix[1,5]\n",
    "                                                                                                                                                     +cnf_matrix[2,0]+cnf_matrix[2,1]+cnf_matrix[2,2]+cnf_matrix[2,3]+cnf_matrix[2,4]+cnf_matrix[2,5]\n",
    "                                                                                                                                                     +cnf_matrix[3,0]+cnf_matrix[3,1]+cnf_matrix[3,2]+cnf_matrix[3,3]+cnf_matrix[3,4]+cnf_matrix[3,5]\n",
    "                                                                                                                                                     +cnf_matrix[4,0]+cnf_matrix[4,1]+cnf_matrix[4,2]+cnf_matrix[4,3]+cnf_matrix[4,4]+cnf_matrix[4,5]\n",
    "                                                                                                                                                     +cnf_matrix[5,0]+cnf_matrix[5,1]+cnf_matrix[5,2]+cnf_matrix[5,3]+cnf_matrix[5,4]+cnf_matrix[5,5]))\n",
    "\n",
    "# Plot non-normalized confusion matrix\n",
    "class_names = [1,2,3,4,5,6]\n",
    "plt.figure()\n",
    "plot_confusion_matrix(cnf_matrix\n",
    "                      , classes=class_names\n",
    "                      , title='Gender-Confusion matrix')\n",
    "plt.show()"
   ]
  },
  {
   "cell_type": "code",
   "execution_count": 29,
   "metadata": {},
   "outputs": [
    {
     "name": "stdout",
     "output_type": "stream",
     "text": [
      "0.5228731533367295\n",
      "79\n"
     ]
    },
    {
     "data": {
      "image/png": "[encoded data removed]",
      "text/plain": [
       "<Figure size 432x288 with 1 Axes>"
      ]
     },
     "metadata": {
      "needs_background": "light"
     },
     "output_type": "display_data"
    }
   ],
   "source": [
    "# do the training for KNeighborsClassifier model(label: age)\n",
    "from sklearn.neighbors import KNeighborsClassifier\n",
    "from sklearn.metrics import confusion_matrix\n",
    "from sklearn.model_selection import train_test_split\n",
    "from sklearn.model_selection import cross_val_score\n",
    "\n",
    "X_train, X_test, y_train, y_test = train_test_split(age_train,agelabel,test_size = 0.2, random_state = 0)\n",
    "avg_scores = []\n",
    "all_scores = []\n",
    "parameter_values = list(range(1,100))\n",
    "for n_neighbors in parameter_values:\n",
    "    estimator = KNeighborsClassifier(n_neighbors=n_neighbors)\n",
    "    scores = cross_val_score(estimator,age_train,agelabel,scoring='accuracy')\n",
    "    avg_scores.append(np.mean(scores))\n",
    "    all_scores.append(scores)\n",
    "\n",
    "maxNumber = np.max(avg_scores)\n",
    "print(maxNumber)\n",
    "for i in parameter_values:\n",
    "    if (avg_scores[i] == maxNumber).all() :\n",
    "        print(i)\n",
    "        break\n",
    "plt.plot(parameter_values,avg_scores,'-o')\n",
    "plt.show()\n"
   ]
  },
  {
   "cell_type": "code",
   "execution_count": 33,
   "metadata": {},
   "outputs": [
    {
     "name": "stderr",
     "output_type": "stream",
     "text": [
      "Building prefix dict from the default dictionary ...\n",
      "Dumping model to file cache C:\\Users\\xiayu\\AppData\\Local\\Temp\\jieba.cache\n",
      "Loading model cost 1.068 seconds.\n",
      "Prefix dict has been built successfully.\n"
     ]
    }
   ],
   "source": [
    "# Word segmentation and part-of-speech filtering for user search data\n",
    "import pandas as pd\n",
    "import jieba.analyse\n",
    "import time\n",
    "import jieba\n",
    "import jieba.posseg\n",
    "import os, sys\n",
    "\n",
    "\n",
    "def input(trainname):\n",
    "    traindata = []\n",
    "    with open(trainname, 'rb') as f:\n",
    "        line = f.readline()\n",
    "        count = 0\n",
    "        while line:\n",
    "            try:\n",
    "                traindata.append(line)\n",
    "                count += 1\n",
    "            except:\n",
    "                print (\"error:\", line, count)\n",
    "            line=f.readline()\n",
    "    return traindata\n",
    "\n",
    "filepath = './data/customer_querylist.csv'\n",
    "QueryList = input(filepath)\n",
    "\n",
    "writepath = './data/customer_querylist_writefile-1.csv'\n",
    "csvfile = open(writepath, 'w')\n",
    "\n",
    "POS = {}\n",
    "for i in range(len(QueryList)):\n",
    "    #print (i)\n",
    "    if i%2000 == 0 and i >=1000:\n",
    "        print (i,'finished') \n",
    "    s = []\n",
    "    str = \"\"\n",
    "    words = jieba.posseg.cut(QueryList[i])# 带有词性的精确分词模式\n",
    "    allowPOS = ['n','v','j']\n",
    "    for word, flag in words:\n",
    "        POS[flag]=POS.get(flag,0)+1\n",
    "        if (flag[0] in allowPOS) and len(word)>=2:\n",
    "            str += word + \" \"\n",
    "            \n",
    "    cur_str = str.encode('utf8')\n",
    "    cur_str = cur_str.decode('utf8')\n",
    "    s.append(cur_str)\n",
    "    \n",
    "    csvfile.write(\" \".join(s)+'\\n')\n",
    "csvfile.close()"
   ]
  },
  {
   "cell_type": "code",
   "execution_count": 39,
   "metadata": {},
   "outputs": [],
   "source": [
    "# transform the search data into word vector\n",
    "from gensim.models import word2vec\n",
    "train_path = './data/customer_querylist_writefile-1.csv'\n",
    "with open(train_path, 'r') as f:\n",
    "    My_list = []\n",
    "    lines = f.readlines()\n",
    "    for line in lines:\n",
    "        cur_list = []\n",
    "        line = line.strip()\n",
    "        data = line.split(\" \")\n",
    "        for d in data:\n",
    "            cur_list.append(d)\n",
    "        My_list.append(cur_list)\n",
    "    \n",
    "    model = word2vec.Word2Vec(My_list, vector_size=300, window=10,workers=4)  \n",
    "    savepath = '1_word2vec_' + '300'+'.model' # model\n",
    "    \n",
    "    model.save(savepath)"
   ]
  },
  {
   "cell_type": "code",
   "execution_count": 47,
   "metadata": {},
   "outputs": [],
   "source": [
    "# get the mean vector\n",
    "file_name = 'data/customer_querylist_writefile-1.csv'\n",
    "# word2vec_300.model\n",
    "cur_model = gensim.models.Word2Vec.load('1_word2vec_300.model')\n",
    "with open(file_name, 'r', encoding='utf-8') as f:\n",
    "    cur_index = 0\n",
    "    lines = f.readlines()\n",
    "    doc_cev_customer = np.zeros((len(lines),300))\n",
    "    for line in lines:\n",
    "        word_vec = np.zeros((1,300))\n",
    "        words = line.strip().split(' ')\n",
    "        wrod_num = 0\n",
    "        for word in words:\n",
    "            vocab = cur_model.wv\n",
    "            if word in vocab:\n",
    "                wrod_num += 1\n",
    "                word_vec += np.array([cur_model.wv[word]])\n",
    "        doc_cev_customer[cur_index] = word_vec / float(wrod_num)\n",
    "        cur_index += 1"
   ]
  },
  {
   "cell_type": "code",
   "execution_count": 48,
   "metadata": {},
   "outputs": [
    {
     "data": {
      "text/plain": [
       "(1, 300)"
      ]
     },
     "execution_count": 48,
     "metadata": {},
     "output_type": "execute_result"
    }
   ],
   "source": [
    "doc_cev_customer.shape"
   ]
  },
  {
   "cell_type": "code",
   "execution_count": 55,
   "metadata": {},
   "outputs": [
    {
     "name": "stdout",
     "output_type": "stream",
     "text": [
      "Woman\n"
     ]
    }
   ],
   "source": [
    "# do the prediction for LogisticRegression model(label: gender)\n",
    "from sklearn.linear_model import LogisticRegression\n",
    "from sklearn.metrics import confusion_matrix\n",
    "\n",
    "LR_model = LogisticRegression(class_weight='balanced', random_state=0,penalty='l1',solver='liblinear')\n",
    "\n",
    "LR_model.fit(gender_train,genderlabel)\n",
    "y_pred = LR_model.predict(doc_cev_customer)\n",
    "if y_pred == 1:\n",
    "    print (\"Woman\")\n",
    "else: \n",
    "     print (\"Man\")"
   ]
  },
  {
   "cell_type": "code",
   "execution_count": 54,
   "metadata": {},
   "outputs": [
    {
     "name": "stdout",
     "output_type": "stream",
     "text": [
      "20-25 \n"
     ]
    }
   ],
   "source": [
    "# do the prediction for RandomForestClassifier model(label: education)\n",
    "from sklearn.ensemble import RandomForestClassifier\n",
    "from sklearn.metrics import confusion_matrix\n",
    "from sklearn.model_selection import train_test_split\n",
    "\n",
    "X_train, X_test, y_train, y_test = train_test_split(education_train,educationlabel,test_size = 0.2, random_state = 0)\n",
    "\n",
    "RF_model = RandomForestClassifier(n_estimators=100,min_samples_split=5,max_depth=10)\n",
    "\n",
    "RF_model.fit(X_train,y_train)\n",
    "y_pred = RF_model.predict(doc_cev_customer)\n",
    "if y_pred == 1:\n",
    "    print (\"5-10\")\n",
    "elif y_pred == 2:\n",
    "    print (\"10-15\")\n",
    "elif y_pred == 3:\n",
    "    print (\"15-20\")\n",
    "elif y_pred == 4:\n",
    "    print (\"20-25 \")\n",
    "elif y_pred == 5:\n",
    "    print (\"25-30\")\n",
    "else:\n",
    "    print (\"30-35\")"
   ]
  },
  {
   "cell_type": "code",
   "execution_count": 53,
   "metadata": {},
   "outputs": [
    {
     "name": "stdout",
     "output_type": "stream",
     "text": [
      "junior high\n"
     ]
    }
   ],
   "source": [
    "# do the prediction for KNeighborsClassifier model(label: education)\n",
    "from sklearn.neighbors import KNeighborsClassifier\n",
    "from sklearn.metrics import confusion_matrix\n",
    "from sklearn.model_selection import train_test_split\n",
    "\n",
    "X_train, X_test, y_train, y_test = train_test_split(age_train,agelabel,test_size = 0.2, random_state = 0)\n",
    "\n",
    "KNN_model = KNeighborsClassifier(n_neighbors=79)\n",
    "KNN_model.fit(X_train,y_train)\n",
    "y_pred = KNN_model.predict(doc_cev_customer)\n",
    "if y_pred == 1:\n",
    "    print (\"primary\")\n",
    "elif y_pred == 2:\n",
    "    print (\"junior\")\n",
    "elif y_pred == 3:\n",
    "    print (\"junior high\")\n",
    "elif y_pred == 4:\n",
    "    print (\"undergraduate \")\n",
    "elif y_pred == 5:\n",
    "    print (\"postgraduate\")\n",
    "else:\n",
    "    print (\"PhD\")"
   ]
  },
  {
   "cell_type": "code",
   "execution_count": null,
   "metadata": {},
   "outputs": [],
   "source": []
  }
 ],
 "metadata": {
  "anaconda-cloud": {},
  "kernelspec": {
   "display_name": "Python 3 (ipykernel)",
   "language": "python",
   "name": "python3"
  },
  "language_info": {
   "codemirror_mode": {
    "name": "ipython",
    "version": 3
   },
   "file_extension": ".py",
   "mimetype": "text/x-python",
   "name": "python",
   "nbconvert_exporter": "python",
   "pygments_lexer": "ipython3",
   "version": "3.9.12"
  }
 },
 "nbformat": 4,
 "nbformat_minor": 1
}
